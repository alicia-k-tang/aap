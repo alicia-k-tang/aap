{
  "nbformat": 4,
  "nbformat_minor": 0,
  "metadata": {
    "colab": {
      "provenance": []
    },
    "kernelspec": {
      "name": "python3",
      "display_name": "Python 3"
    },
    "language_info": {
      "name": "python"
    }
  },
  "cells": [
    {
      "cell_type": "code",
      "execution_count": 1,
      "metadata": {
        "colab": {
          "base_uri": "https://localhost:8080/"
        },
        "id": "gcgJHLMLqWjK",
        "outputId": "76be2cf1-8491-46e9-deae-56cb0b0f07d2"
      },
      "outputs": [
        {
          "output_type": "stream",
          "name": "stdout",
          "text": [
            "Drive already mounted at /content/drive; to attempt to forcibly remount, call drive.mount(\"/content/drive\", force_remount=True).\n"
          ]
        }
      ],
      "source": [
        "from google.colab import drive\n",
        "drive.mount('/content/drive')"
      ]
    },
    {
      "cell_type": "code",
      "source": [
        "import joblib\n",
        "\n",
        "# Load Count Vectorizer data\n",
        "X_train_cv = joblib.load('/content/drive/MyDrive/X_train_cv.joblib')\n",
        "X_val_cv = joblib.load('/content/drive/MyDrive/X_val_cv.joblib')\n",
        "y_train_cv = joblib.load('/content/drive/MyDrive/y_train_cv.joblib')\n",
        "y_val_cv = joblib.load('/content/drive/MyDrive/y_val_cv.joblib')\n",
        "X_test_cv = joblib.load('/content/drive/MyDrive/X_test_cv.joblib')\n",
        "cv = joblib.load('/content/drive/MyDrive/count_vectorizer.joblib')\n",
        "\n",
        "# Load TFIDF Vectorizer data\n",
        "X_train_tfidf = joblib.load('/content/drive/MyDrive/X_train_tfidf.joblib')\n",
        "X_val_tfidf = joblib.load('/content/drive/MyDrive/X_val_tfidf.joblib')\n",
        "y_train_tfidf = joblib.load('/content/drive/MyDrive/y_train_tfidf.joblib')\n",
        "y_val_tfidf = joblib.load('/content/drive/MyDrive/y_val_tfidf.joblib')\n",
        "X_test_tfidf = joblib.load('/content/drive/MyDrive/X_test_tfidf.joblib')\n",
        "tfidf = joblib.load('/content/drive/MyDrive/tfidf_vectorizer.joblib')\n",
        "\n",
        "# Load Word2Vec data\n",
        "X_train_w2v = joblib.load('/content/drive/MyDrive/X_train_w2v.joblib')\n",
        "X_val_w2v = joblib.load('/content/drive/MyDrive/X_val_w2v.joblib')\n",
        "y_train_w2v = joblib.load('/content/drive/MyDrive/y_train_w2v.joblib')\n",
        "y_val_w2v = joblib.load('/content/drive/MyDrive/y_val_w2v.joblib')\n",
        "X_test_w2v = joblib.load('/content/drive/MyDrive/X_test_w2v.joblib')\n",
        "w2v = joblib.load('/content/drive/MyDrive/word2vec_model.joblib')\n",
        "\n",
        "# Load y_test\n",
        "y_test = joblib.load('/content/drive/MyDrive/y_test.joblib')"
      ],
      "metadata": {
        "id": "hpF77OZBxqKc"
      },
      "execution_count": 2,
      "outputs": []
    },
    {
      "cell_type": "code",
      "source": [
        "from sklearn.model_selection import ParameterGrid\n",
        "from sklearn.neighbors import KNeighborsClassifier\n",
        "from sklearn.metrics import accuracy_score, classification_report\n",
        "from tqdm import tqdm\n",
        "import joblib\n",
        "\n",
        "# Define the hyperparameter grid\n",
        "param_grid = {\n",
        "    'n_neighbors': [3, 5, 7, 9, 11],\n",
        "    'weights': ['uniform', 'distance'],\n",
        "    'metric': ['euclidean', 'manhattan']\n",
        "}\n",
        "\n",
        "# Function to run hypertuning for each vectorizer and return the best model\n",
        "def tune_and_run_knn_model(X_train, y_train, X_val, y_val, X_test, vectorizer_name):\n",
        "    param_combinations = list(ParameterGrid(param_grid))  # Get all parameter combinations\n",
        "    best_score = 0\n",
        "    best_params = None\n",
        "    best_knn = None\n",
        "\n",
        "    # Progress bar using tqdm to track tuning process\n",
        "    for params in tqdm(param_combinations, desc=f\"Tuning KNN for {vectorizer_name}\", unit=\"combination\"):\n",
        "        # Initialize KNN with current hyperparameters\n",
        "        knn = KNeighborsClassifier(**params)\n",
        "\n",
        "        # Fit the KNN model\n",
        "        knn.fit(X_train, y_train)\n",
        "\n",
        "        # Make predictions on validation data\n",
        "        y_pred_val = knn.predict(X_val)\n",
        "\n",
        "        # Evaluate the model\n",
        "        accuracy = accuracy_score(y_val, y_pred_val)\n",
        "\n",
        "        # Keep track of the best model based on validation accuracy\n",
        "        if accuracy > best_score:\n",
        "            best_score = accuracy\n",
        "            best_params = params\n",
        "            best_knn = knn\n",
        "\n",
        "    # Print the best results for the current vectorizer\n",
        "    print(f\"\\nBest model for {vectorizer_name}:\")\n",
        "    print(f\"Best Validation Accuracy: {best_score * 100:.2f}%\")\n",
        "    print(f\"Best Hyperparameters: {best_params}\")\n",
        "\n",
        "    # Now use the best model to predict on the test data\n",
        "    y_pred_test = best_knn.predict(X_test)\n",
        "\n",
        "    # Save the best model's predictions for the test set\n",
        "    joblib.dump(y_pred_test, f'/content/drive/MyDrive/knn_test_predictions_{vectorizer_name}.joblib')\n",
        "\n",
        "    print(f\"Test predictions saved for {vectorizer_name} KNN model.\\n\")\n",
        "\n",
        "    return best_knn, best_score, best_params"
      ],
      "metadata": {
        "id": "ls-b8eh4CQ4k"
      },
      "execution_count": 5,
      "outputs": []
    },
    {
      "cell_type": "code",
      "source": [
        "\n",
        "# Run the hypertuning process for Count Vectorizer\n",
        "best_knn_cv, best_score_cv, best_params_cv = tune_and_run_knn_model(\n",
        "    X_train_cv, y_train_cv, X_val_cv, y_val_cv, X_test_cv, \"Count_Vectorizer\"\n",
        ")\n",
        "\n",
        "\n",
        "\n",
        "# Print out the best results for each model\n",
        "print(f\"Best KNN model for Count Vectorizer: {best_params_cv}, Validation Accuracy: {best_score_cv * 100:.2f}%\")\n"
      ],
      "metadata": {
        "colab": {
          "base_uri": "https://localhost:8080/"
        },
        "id": "NGmuly0_Co1a",
        "outputId": "fe794975-2c27-41c7-f147-44747680c763"
      },
      "execution_count": 6,
      "outputs": [
        {
          "output_type": "stream",
          "name": "stderr",
          "text": [
            "Tuning KNN for Count_Vectorizer: 100%|██████████| 20/20 [22:15<00:00, 66.79s/combination] \n"
          ]
        },
        {
          "output_type": "stream",
          "name": "stdout",
          "text": [
            "\n",
            "Best model for Count_Vectorizer:\n",
            "Best Validation Accuracy: 89.96%\n",
            "Best Hyperparameters: {'metric': 'manhattan', 'n_neighbors': 3, 'weights': 'distance'}\n",
            "Test predictions saved for Count_Vectorizer KNN model.\n",
            "\n",
            "Best KNN model for Count Vectorizer: {'metric': 'manhattan', 'n_neighbors': 3, 'weights': 'distance'}, Validation Accuracy: 89.96%\n"
          ]
        }
      ]
    },
    {
      "cell_type": "code",
      "source": [
        "\n",
        "# Run the hypertuning process for TFIDF\n",
        "best_knn_tfidf, best_score_tfidf, best_params_tfidf = tune_and_run_knn_model(\n",
        "    X_train_tfidf, y_train_tfidf, X_val_tfidf, y_val_tfidf, X_test_tfidf, \"TFIDF\"\n",
        ")\n",
        "\n",
        "\n",
        "print(f\"Best KNN model for TFIDF: {best_params_tfidf}, Validation Accuracy: {best_score_tfidf * 100:.2f}%\")"
      ],
      "metadata": {
        "colab": {
          "base_uri": "https://localhost:8080/"
        },
        "id": "m36-LEN9CrS-",
        "outputId": "3f52a682-5a5a-446e-e56d-67f9ed020e7a"
      },
      "execution_count": 7,
      "outputs": [
        {
          "output_type": "stream",
          "name": "stderr",
          "text": [
            "Tuning KNN for TFIDF: 100%|██████████| 20/20 [19:13<00:00, 57.70s/combination]\n"
          ]
        },
        {
          "output_type": "stream",
          "name": "stdout",
          "text": [
            "\n",
            "Best model for TFIDF:\n",
            "Best Validation Accuracy: 86.51%\n",
            "Best Hyperparameters: {'metric': 'euclidean', 'n_neighbors': 5, 'weights': 'distance'}\n",
            "Test predictions saved for TFIDF KNN model.\n",
            "\n",
            "Best KNN model for TFIDF: {'metric': 'euclidean', 'n_neighbors': 5, 'weights': 'distance'}, Validation Accuracy: 86.51%\n"
          ]
        }
      ]
    },
    {
      "cell_type": "code",
      "source": [
        "\n",
        "# Run the hypertuning process for Word2Vec\n",
        "best_knn_w2v, best_score_w2v, best_params_w2v = tune_and_run_knn_model(\n",
        "    X_train_w2v, y_train_w2v, X_val_w2v, y_val_w2v, X_test_w2v, \"Word2Vec\"\n",
        ")\n",
        "\n",
        "print(f\"Best KNN model for Word2Vec: {best_params_w2v}, Validation Accuracy: {best_score_w2v * 100:.2f}%\")"
      ],
      "metadata": {
        "colab": {
          "base_uri": "https://localhost:8080/"
        },
        "id": "KuwU8YT6Ctgm",
        "outputId": "a643652c-4d69-45f2-bf05-5475fe40e72b"
      },
      "execution_count": 8,
      "outputs": [
        {
          "output_type": "stream",
          "name": "stderr",
          "text": [
            "Tuning KNN for Word2Vec: 100%|██████████| 20/20 [19:29<00:00, 58.49s/combination] \n"
          ]
        },
        {
          "output_type": "stream",
          "name": "stdout",
          "text": [
            "\n",
            "Best model for Word2Vec:\n",
            "Best Validation Accuracy: 82.32%\n",
            "Best Hyperparameters: {'metric': 'euclidean', 'n_neighbors': 3, 'weights': 'distance'}\n",
            "Test predictions saved for Word2Vec KNN model.\n",
            "\n",
            "Best KNN model for Word2Vec: {'metric': 'euclidean', 'n_neighbors': 3, 'weights': 'distance'}, Validation Accuracy: 82.32%\n"
          ]
        }
      ]
    },
    {
      "cell_type": "markdown",
      "source": [
        "Looks like count vectorizer embedding is the best for the KNN Classifier model!\n",
        "Let's wait and see the next model the next week!"
      ],
      "metadata": {
        "id": "3tFNN--06jaq"
      }
    }
  ]
}